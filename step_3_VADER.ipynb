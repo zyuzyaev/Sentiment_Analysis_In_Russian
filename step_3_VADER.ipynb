{
 "cells": [
  {
   "cell_type": "code",
   "execution_count": null,
   "metadata": {
    "colab": {
     "base_uri": "https://localhost:8080/",
     "height": 222
    },
    "id": "HGGEjYf1iuv2",
    "outputId": "8c4aeb50-0423-4d97-84bf-a2cd1e417c75"
   },
   "outputs": [],
   "source": [
    "import os\n",
    "os.chdir(\"/Users/urijzuzaev/Desktop/Thesis/reviews_dataset/short_dataset.csv\")\n",
    "import pandas as pd\n",
    "import re\n",
    "!pip install deep-translator\n",
    "from deep_translator import GoogleTranslator\n",
    "import nltk\n",
    "from nltk.sentiment import SentimentIntensityAnalyzer\n",
    "nltk.download('vader_lexicon')\n",
    "sid = SentimentIntensityAnalyzer()\n",
    "!pip install pymorphy2\n",
    "import pymorphy2\n",
    "morph = pymorphy2.MorphAnalyzer()\n",
    "import string\n",
    "nltk.download('stopwords')\n",
    "from nltk.corpus import stopwords\n",
    "stop_words = stopwords.words('russian')"
   ]
  },
  {
   "cell_type": "code",
   "execution_count": null,
   "metadata": {
    "id": "oDQ4X7MUjYIN"
   },
   "outputs": [],
   "source": [
    "df = pd.read_csv('/short_dataset.csv')"
   ]
  },
  {
   "cell_type": "code",
   "execution_count": null,
   "metadata": {
    "id": "gKhJXm9-j7bG"
   },
   "outputs": [],
   "source": [
    "results = []\n",
    "c = 0\n",
    "for sentence, sentiment in zip(df['Review'], df['Sentiment']):\n",
    "    c += 1\n",
    "    print(c)\n",
    "    new_sentence = sentence[:2000] # since the translator cannot handle sentences longer than 2000 symbols, we are shortening those sentences that are beyond the limit\n",
    "    translated = GoogleTranslator(source='auto', target='en').translate(new_sentence)\n",
    "    sid = SentimentIntensityAnalyzer()\n",
    "    sentiment_scores = sid.polarity_scores(translated)\n",
    "    pos_score = sentiment_scores['pos']\n",
    "    neg_score = sentiment_scores['neg']\n",
    "    subtraction = pos_score - neg_score\n",
    "    if subtraction > 0.1: # if the subtraction between pos and neg scores are more than 0.1, we assign the \"positive\" label to the review\n",
    "                          # we do this so as to avoid ambiguous cases when the values are nearly the same\n",
    "        result = 'positive'\n",
    "    else:\n",
    "        result = 'negative'\n",
    "    results.append(result)"
   ]
  },
  {
   "cell_type": "code",
   "execution_count": null,
   "metadata": {
    "colab": {
     "base_uri": "https://localhost:8080/"
    },
    "id": "VClqsG02m6qY",
    "outputId": "4bf9f106-319f-475a-e2c6-61a24eac88f0"
   },
   "outputs": [],
   "source": [
    "df['Prediction'] = results"
   ]
  },
  {
   "cell_type": "code",
   "execution_count": null,
   "metadata": {
    "colab": {
     "base_uri": "https://localhost:8080/"
    },
    "id": "qI9PCv9krNtA",
    "outputId": "bceeb2fc-c14f-4516-fcba-b22888d34692"
   },
   "outputs": [],
   "source": [
    "print(df['Prediction'].value_counts())"
   ]
  },
  {
   "cell_type": "code",
   "execution_count": null,
   "metadata": {
    "colab": {
     "base_uri": "https://localhost:8080/"
    },
    "id": "SranKZPtraLr",
    "outputId": "6d18b7ab-ae7b-460d-b044-b9f1e53327b0"
   },
   "outputs": [],
   "source": [
    "def conf_matrix(sentiment, prediction):\n",
    "  if sentiment == 'positive' and prediction == 'positive':\n",
    "    return 'TP'\n",
    "  elif sentiment == 'positive' and prediction == 'negative':\n",
    "    return 'FN'\n",
    "  elif sentiment == 'negative' and prediction == 'positive':\n",
    "    return 'FP'\n",
    "  elif sentiment == 'negative' and prediction == 'negative':\n",
    "    return 'TN'\n",
    "    \n",
    "df['Conf_Matrix'] = [conf_matrix(x, y) for x, y in zip(df['Sentiment'], df['Prediction'])]"
   ]
  },
  {
   "cell_type": "code",
   "execution_count": null,
   "metadata": {
    "colab": {
     "base_uri": "https://localhost:8080/"
    },
    "id": "kSXaL4sjrsGn",
    "outputId": "4fc659d8-d49e-4d14-b444-070ee7bfb9c2"
   },
   "outputs": [],
   "source": [
    "conf_vals = test.Conf_Matrix.value_counts().to_dict()\n",
    "print(conf_vals)\n",
    "\n",
    "accuracy = (conf_vals['TP'] + conf_vals['TN']) / (conf_vals['TP'] + conf_vals['TN'] + conf_vals['FP'] + conf_vals['FN'])\n",
    "precision = conf_vals['TP'] / (conf_vals['TP'] + conf_vals['FP'])\n",
    "recall = conf_vals['TP'] / (conf_vals['TP'] + conf_vals['FN'])\n",
    "f1_score = 2*precision*recall / (precision + recall)\n",
    "print('Accuracy: ', round(100 * accuracy, 2),'%',\n",
    "      '\\nPrecision: ', round(100 * precision, 2),'%',\n",
    "      '\\nRecall: ', round(100 * recall, 2),'%',\n",
    "      '\\nF1 Score: ', round(100 * f1_score, 2),'%')"
   ]
  }
 ],
 "metadata": {
  "colab": {
   "name": "Untitled19.ipynb",
   "provenance": []
  },
  "kernelspec": {
   "display_name": "Python 3",
   "language": "python",
   "name": "python3"
  },
  "language_info": {
   "codemirror_mode": {
    "name": "ipython",
    "version": 3
   },
   "file_extension": ".py",
   "mimetype": "text/x-python",
   "name": "python",
   "nbconvert_exporter": "python",
   "pygments_lexer": "ipython3",
   "version": "3.7.4"
  }
 },
 "nbformat": 4,
 "nbformat_minor": 4
}
